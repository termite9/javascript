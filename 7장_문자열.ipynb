{
 "cells": [
  {
   "cell_type": "markdown",
   "metadata": {},
   "source": [
    "### 7장 문자열\n",
    "- 문자열은 하나 이상의 문자를 의미합니다. 문자열에서 특정 문자열을 추출하는 방법과 문자열을 다른 문자열로 치환하는 방법 등에 대해서 공부합니다. 또한 문자열에 포함된 공백을 삭제하는 방법과 측정 무자를 문자열 앞뒤에 채우는 방법에 대해서도 배웁니다. 마지막으로 문자열에서 특정 문자열을 검색하는 다양한 방법에 대해서 학습합니다."
   ]
  },
  {
   "cell_type": "markdown",
   "metadata": {},
   "source": [
    "#### 7.1 문자열이란?\n",
    "- 텍스트를 저장하고 처리하는데 사용됩니다.\n",
    "- 웹페이지의 인코딩 방식과는 별개로 항상 UTF_16형식을 따릅니다."
   ]
  },
  {
   "cell_type": "markdown",
   "metadata": {},
   "source": [
    "> 7.1.1  특정 문자 읽기"
   ]
  },
  {
   "cell_type": "markdown",
   "metadata": {},
   "source": [
    "> 7.1.2 문자 반복 읽기\n",
    "- for문을 사용"
   ]
  },
  {
   "cell_type": "markdown",
   "metadata": {},
   "source": [
    "#### 7.2 문자열 추출\n",
    "- 특정 문자열을 추출하는 데에는 다음2가지 메서드가 많이 쓰인다.\n",
    "    - slice(start,end)\n",
    "    - substr(start,length)  : 시작위치와 추출하는 갯수를 지정"
   ]
  },
  {
   "cell_type": "markdown",
   "metadata": {},
   "source": [
    "> 7.2.1 slice()메서드\n",
    "- 문자열 내 특정 문자의 시작 위치와 끝 위치를 기준으로 문자열을 추출합니다."
   ]
  },
  {
   "cell_type": "markdown",
   "metadata": {},
   "source": [
    "> 7.2.2 substr()메서드"
   ]
  },
  {
   "cell_type": "markdown",
   "metadata": {},
   "source": [
    "#### 7.3 문자열 변환\n",
    "- toUpperCase() 영문 대문자로 변경한 문자열을 반환함\n",
    "- toLowerCase() 영문 소문자로 변경한 문자열을 반환함\n",
    "- repalce()  첫번째 매칭된 문자열을 다른 문자열로 치환한 문자열을 반환함\n",
    "- repalceAll() 매칭된 모든 문자열을 다른 문자열로 치환한 문자열을 반환함\n",
    "- concat() 두개 이상의 문자열을 연결한 문자열을 반환함\n",
    "- split() 문자열을 특정 문자열을 기준으로 분리한 문자열을 배열로 반환함"
   ]
  },
  {
   "cell_type": "markdown",
   "metadata": {},
   "source": [
    "> 7.3.1 toUpperCase()메서드"
   ]
  },
  {
   "cell_type": "markdown",
   "metadata": {},
   "source": [
    "> 7.3.2 toLowerCase()메서드"
   ]
  },
  {
   "cell_type": "markdown",
   "metadata": {},
   "source": [
    "> 7.3.3 replace()메서드\n"
   ]
  },
  {
   "cell_type": "markdown",
   "metadata": {},
   "source": [
    "> 7.3.4 replaceAll()메서드"
   ]
  },
  {
   "cell_type": "markdown",
   "metadata": {},
   "source": [
    "> 7.3.5 두개 이상의 문자열을 서로 병합하는데 사용됩니다. 기존의 문자열을 변경하지 않고 무자열들을 연결한 새로운 문자열을 반환한다."
   ]
  },
  {
   "cell_type": "markdown",
   "metadata": {},
   "source": [
    "> 7.3.6 split()메서드\n",
    "- 특정한 문자열을 기준으로 문자열을 분리하여 배열 형태로 반환한다."
   ]
  },
  {
   "cell_type": "markdown",
   "metadata": {},
   "source": [
    "#### 7.4 공백삭제와 문자열 패딩\n",
    "- 문자열에 포함된 공백을 삭제하거나 문자열을 특정 문자열로 채우는 작업이 필요할 때 가 종종 있습니다. 이와 관련된 String객체를 정리\n",
    "    - trim()  문자열 양 쪽 끝 공백을 삭제한 문자열을 반환함.\n",
    "    - trimStart() 문자열 앞에 있는 공백을 삭제한 문자열을 반환함.\n",
    "    - trimEnd()   문자열 뒤에 있는 공백을 삭제한 문자열을 반환함.\n",
    "    - padStart()  문자열 앞을 특정 문자열로 채운 문자열을 반환함.\n",
    "    - padEnd()    문자열 뒤를 특정 문자열로 채운 문자열을 반환함."
   ]
  },
  {
   "cell_type": "markdown",
   "metadata": {},
   "source": [
    "> 7.4.1 trim() 메서드"
   ]
  },
  {
   "cell_type": "markdown",
   "metadata": {},
   "source": [
    "> 7.4.2 trimStart()메서드"
   ]
  },
  {
   "cell_type": "markdown",
   "metadata": {},
   "source": [
    "> 7.4.3 trimEnd() 메서드"
   ]
  },
  {
   "cell_type": "markdown",
   "metadata": {},
   "source": [
    "> 7.4.4 padStart() 메서드"
   ]
  },
  {
   "cell_type": "markdown",
   "metadata": {},
   "source": [
    "> 7.4.5 padEnd()메서드"
   ]
  },
  {
   "cell_type": "markdown",
   "metadata": {},
   "source": [
    "\n",
    "#### 7.5 문자열 검색\n",
    "- indexOf()  문자열에서 특정 문자열이 처음 발생한 위치(인덱스)를 반환함. 검색시작위치를 지정할  수 있음."
   ]
  },
  {
   "cell_type": "markdown",
   "metadata": {},
   "source": [
    "> 7.5.1 indexOf()메서드"
   ]
  },
  {
   "cell_type": "markdown",
   "metadata": {},
   "source": [
    "> 7.5.2 lastIndexOf()메서드\n",
    "- 문자열에서 특정 문자열이 마지막으로 발생하는 위치를 반환합니다. 존재하지 않으면 -1을 반환합니다."
   ]
  },
  {
   "cell_type": "markdown",
   "metadata": {},
   "source": [
    "> 7.5.3 search() 메서드\n",
    "- indexOf()메서드 처럼 특정문자열이 처음 발생하는 위치를 반환합니다. 일반 문자열검색뿐만 아니라 정규표현식도 검색에 이용 가능합니다."
   ]
  },
  {
   "cell_type": "markdown",
   "metadata": {},
   "source": [
    "> 7.5.4 match()메서드\n",
    "- 문자열 내에 정규 표현식으로 표현된 특정 문자열이 존재하는지를 검사하여 그 결과를 배열 형태로 반환합니다."
   ]
  },
  {
   "cell_type": "markdown",
   "metadata": {},
   "source": [
    "> 7.5.5 includes()메서드\n",
    "- 문자열 내에 특정 문자열이 존재하는지 검색하여 그 문자열이 존재하면 true를반환하고 그렇치 않으면 false를 반환한다."
   ]
  },
  {
   "cell_type": "markdown",
   "metadata": {},
   "source": []
  }
 ],
 "metadata": {
  "language_info": {
   "name": "python"
  }
 },
 "nbformat": 4,
 "nbformat_minor": 2
}
