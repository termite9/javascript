{
 "cells": [
  {
   "cell_type": "markdown",
   "metadata": {},
   "source": [
    "### 13장브라우저 객체 모델(BOM)\n",
    "- 브라우저에 관련된 객체를 통하여 모든 정보와 기능을 제공합니다. 새창열기, 창 닫기, 창크기 가져오기등의 기능을 가진 Window객체에 대해 배운다\n",
    "- 모니터 화면에 관련된 Screen객체\n",
    "- 웹페이지 URL에 관련된 Location객체, \n",
    "- 페이지 방문 히스토리를 다루는 History객체\n",
    "- 마지막으로 일정시간 후에 함수를 동작 시키거나 반복 실행 시키는 setTimeout()과 setInterval()메서드에 대해서 학습한다"
   ]
  },
  {
   "cell_type": "markdown",
   "metadata": {},
   "source": [
    "#### 13.1 브라우저 객체모델이란?\n",
    "- 자바스크립트에서 브라우저에 대한 정보를 이용하거나 브라우저를 제어하려고 할 때 필요한 것이 부라우저 객체모델입니다.\n",
    "- Window 객체\n",
    "- Document객\n",
    "- Screen객\n",
    "- Location객\n",
    "- History객\n",
    "- Navigator객"
   ]
  },
  {
   "cell_type": "markdown",
   "metadata": {},
   "source": [
    "#### 13.2 Window객체\n",
    "- 자바스크립트에서 사용하는 모든 객체, 전역함수,전역변수들을 만ㄹ한다\n",
    "- 윈도우객체의 메서드는 전역함수이며 전역변수가 된다"
   ]
  },
  {
   "cell_type": "markdown",
   "metadata": {},
   "source": [
    ">>13.2.1 새  창 열기\n",
    "- open()"
   ]
  },
  {
   "cell_type": "markdown",
   "metadata": {},
   "source": [
    ">13.2.2 창 닫기\n",
    "- close()"
   ]
  },
  {
   "cell_type": "markdown",
   "metadata": {},
   "source": [
    ">13.2.3 창 크기 가져오기\n",
    "- innerWidth/innerHeight   outerWidth/outerHeight"
   ]
  },
  {
   "cell_type": "markdown",
   "metadata": {},
   "source": [
    ">#### 13.3 Screen객체\n",
    "- 컴퓨터 모니터화면에 관련된정보"
   ]
  },
  {
   "cell_type": "markdown",
   "metadata": {},
   "source": [
    "> 13.3.1 모니터 화면의 너비와 높이"
   ]
  },
  {
   "cell_type": "markdown",
   "metadata": {},
   "source": [
    ">13.3.2 모니터 색상당 비트수"
   ]
  },
  {
   "cell_type": "markdown",
   "metadata": {},
   "source": [
    "#### 13.4 Location객체\n",
    "- 현재페이지에 해당하는 URL주소를 얻거나 현재 페이지에 새로운 문서를 불러올때 사용"
   ]
  },
  {
   "cell_type": "markdown",
   "metadata": {},
   "source": [
    ">13.4.1 웹 페이지의 URL주소"
   ]
  },
  {
   "cell_type": "markdown",
   "metadata": {},
   "source": [
    ">13.4.2 파일경로 가져오기\n",
    "- pathnamee프로퍼티를 이용하면 현재문서의 파일경로를 가져올 수 있다."
   ]
  },
  {
   "cell_type": "markdown",
   "metadata": {},
   "source": [
    ">13.4.3 호스트이름가져오기"
   ]
  },
  {
   "cell_type": "markdown",
   "metadata": {},
   "source": [
    ">13.4.4 새로운 문서 불러오기"
   ]
  },
  {
   "cell_type": "markdown",
   "metadata": {},
   "source": [
    "#### 13.5 History객체\n",
    "- 브라우저에 방문한 기록, 즉 히스토리 목록을 저장하고 관리하는데 사용됩니다. "
   ]
  },
  {
   "cell_type": "markdown",
   "metadata": {},
   "source": [
    ">13.5.1 히스토리 목록 개수 알아보기\n",
    "- length 히스토리목록에 저장된 유알엘 주소의 개수를 얻는 데 사용"
   ]
  },
  {
   "cell_type": "markdown",
   "metadata": {},
   "source": [
    ">13.5.2 히스토리 목록에 접근하기\n",
    "- go()  back()  forward()"
   ]
  },
  {
   "cell_type": "markdown",
   "metadata": {},
   "source": [
    "#### 13.6 Navigator객체\n",
    "- 브라우저에 관련된 정보를 담고 있다."
   ]
  },
  {
   "cell_type": "markdown",
   "metadata": {},
   "source": [
    "#### 13.7 타이머 메서드\n",
    "- 특정함수를 바로 실행 하지 않고 약간의 시간이 경과한 후에 실행되게 할때\n"
   ]
  },
  {
   "cell_type": "markdown",
   "metadata": {},
   "source": [
    ">13.7.1 setTimeout()"
   ]
  },
  {
   "cell_type": "markdown",
   "metadata": {},
   "source": [
    ">13.7.2 setInterval()"
   ]
  },
  {
   "cell_type": "markdown",
   "metadata": {},
   "source": []
  }
 ],
 "metadata": {
  "language_info": {
   "name": "python"
  }
 },
 "nbformat": 4,
 "nbformat_minor": 2
}
