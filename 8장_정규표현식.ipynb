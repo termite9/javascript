{
 "cells": [
  {
   "cell_type": "markdown",
   "metadata": {},
   "source": [
    "### "
   ]
  },
  {
   "cell_type": "markdown",
   "metadata": {},
   "source": [
    "### 8장 정규 표현식\n",
    "- 문자열에서 특정 문자열을 검색하거나 치환할 때 사용됩니다."
   ]
  },
  {
   "cell_type": "markdown",
   "metadata": {},
   "source": [
    "#### 8.1 정규표현식이란?\n",
    "- Regular Expression은 문자열에서 특정 문자열을 검색하거나 치환할때 사용"
   ]
  },
  {
   "cell_type": "markdown",
   "metadata": {},
   "source": [
    "> 8.1.1 정규표현식의 형식\n",
    "- /검색패턴/플래그"
   ]
  },
  {
   "cell_type": "markdown",
   "metadata": {},
   "source": [
    "> 8.2.2 정규표현식의 플래그\n",
    "- i  \n",
    "    - ignore Case  영문 대소문자를 구분하지 않고 검색함\n",
    "- g  \n",
    "    - global  문자열 내의 모든  패턴에 대해 검색함\n",
    "- m  \n",
    "    - multiLine 문자열의 행이 바뀌어도 계속 검색함"
   ]
  },
  {
   "cell_type": "markdown",
   "metadata": {},
   "source": [
    "#### 8.2 메타문자\n",
    "- 정규표현식에서 특수한 의미를 가진 문자입니다.\n",
    "- .\n",
    "    - 임의의 문자(줄바꿈 문자제외) 하나와 매치\n",
    "- \\w  ('word'의 약어, 영문자,숫자,밑줄_에 해당되는 문자와 매치)\n",
    "- \\W  (\\w외의 문자와 매치. 영문자,숫자,밑줄_외의 문자와 매치)\n",
    "- \\d  (digit의 약어 0~9의 숫자와 매치)\n",
    "- \\D  (\\d외의 숫자와 매치. 0~숫자 이외의 문자와 매치)\n",
    "- \\s  (space의약어, 공백,탭,줄바꿈 문자와 매치)\n",
    "- \\S  (\\s이외의 문자와 매치. 공백,탭,줄바꿈 이외의 문자와 매치)\n",
    "- \\b  (begin의 약어, 특정 단어로 시작하거나 끝나는 문자와 매치)\n",
    "- \\B  (\\b이외의 문자와 매치, 특정단어로 시작하가나 끝나지 않는 문자와 매치)"
   ]
  },
  {
   "cell_type": "markdown",
   "metadata": {},
   "source": [
    "> 8.2.1 메타문자:  ."
   ]
  },
  {
   "cell_type": "markdown",
   "metadata": {},
   "source": [
    "> 8.2.2 메타문자    \\w"
   ]
  },
  {
   "cell_type": "markdown",
   "metadata": {},
   "source": [
    "> 8.2.3 메타문자   : \\W"
   ]
  },
  {
   "cell_type": "markdown",
   "metadata": {},
   "source": [
    "> 8.2.4 메타문장 :  \\d"
   ]
  },
  {
   "cell_type": "markdown",
   "metadata": {},
   "source": [
    "> 8.2.5 메타문자 : \\s"
   ]
  },
  {
   "cell_type": "markdown",
   "metadata": {},
   "source": [
    "> 8.2.6 메타문자 : \\S"
   ]
  },
  {
   "cell_type": "markdown",
   "metadata": {},
   "source": [
    "> 8.2.8 메타문자 : \\b"
   ]
  },
  {
   "cell_type": "markdown",
   "metadata": {},
   "source": [
    "#### 8.3 수량자\n",
    "- 특정 패턴이 반복해서 등장하는 수량, 즉 횟수를 지정하는 데 사용됩니다."
   ]
  },
  {
   "cell_type": "markdown",
   "metadata": {},
   "source": [
    ">8.3.1 수량자: +\n",
    "- 수량자 +는 바로 앞의 문자가 최소한 1번 이상 반복될 경우 매치됩니다."
   ]
  },
  {
   "cell_type": "markdown",
   "metadata": {},
   "source": [
    ">8.3.2 수량자 :  *\n",
    "- 바로앞의 문자가 0번 또는 1번 이상 반복될 경우 매치됩니다."
   ]
  },
  {
   "cell_type": "markdown",
   "metadata": {},
   "source": [
    ">8.3.3 수량장 :  ?\n",
    "- 바로 앞의 문자가 0번 또는 1번 반복될 경우 매치됩니다."
   ]
  },
  {
   "cell_type": "markdown",
   "metadata": {},
   "source": [
    ">8.3.4 수량자 : {m}\n",
    "- 앞의 문자가 m번 반복되는 패턴과 매치됩니다.\n"
   ]
  },
  {
   "cell_type": "markdown",
   "metadata": {},
   "source": [
    ">8.3.5수량자 : {m,}\n",
    "- 앞의 문자가 m번 이상 반복되는 패턴과 매치됩니다."
   ]
  },
  {
   "cell_type": "markdown",
   "metadata": {},
   "source": [
    ">8.3.6 수량자 : {m,n}\n",
    "- 앞의 문자가 m번이상 n번 이하반복되는 패턴과 매치됩니다."
   ]
  },
  {
   "cell_type": "markdown",
   "metadata": {},
   "source": [
    ">8.3.7 수량자 : ^\n",
    "- 검색하는 문자열이 가장 앞에 위치해야 할 때 사용됩니다.\n"
   ]
  },
  {
   "cell_type": "markdown",
   "metadata": {},
   "source": [
    ">8.3.8 수량자 : $\n",
    "- 수량자 ^와 반대로 검색하는 문자열이 가장 뒤에 위치해야 할 때 사용합니다."
   ]
  },
  {
   "cell_type": "markdown",
   "metadata": {},
   "source": [
    ">8.3.9 수량자 : ?=\n",
    "- 문자 다음에 특정 문자가 나올 경우에만 검색됩니다."
   ]
  },
  {
   "cell_type": "markdown",
   "metadata": {},
   "source": [
    ">8.3.10 수량자 : ?!\n",
    "- ?=과 반대로 문자 다음에 특정 문자가 나오지 않는 경우에만 검색됩니다."
   ]
  },
  {
   "cell_type": "markdown",
   "metadata": {},
   "source": [
    "#### 8.4 그룹패턴\n",
    "- 문자들을 그룹화하여 패턴을 만들어서 검색하는데 사용"
   ]
  },
  {
   "cell_type": "markdown",
   "metadata": {},
   "source": [
    "> 8.4.1 패턴 : [abc]\n",
    "- 대괄호안에 포함된 abc중 하나라도 포함되면 매치됩니다."
   ]
  },
  {
   "cell_type": "markdown",
   "metadata": {},
   "source": [
    ">8.4.2 패턴 [^abc]\n",
    "- abc를 제외한 문자열과 매치"
   ]
  },
  {
   "cell_type": "markdown",
   "metadata": {},
   "source": [
    ">8.4.3패턴 : [0-9]\n",
    "- 0-9까지의 숫자와 매치"
   ]
  },
  {
   "cell_type": "markdown",
   "metadata": {},
   "source": [
    ">8.4.4 패턴 : [^0-9]\n",
    "- 0에서 9깢지의 숫자를 제외한 문자와 매치"
   ]
  },
  {
   "cell_type": "markdown",
   "metadata": {},
   "source": [
    ">8.4.5패턴 : (x|y)\n",
    "- x또는 y와 매치"
   ]
  },
  {
   "cell_type": "markdown",
   "metadata": {},
   "source": [
    "#### 8.5 정규 표현식 메서드\n",
    "- "
   ]
  },
  {
   "cell_type": "markdown",
   "metadata": {},
   "source": [
    "> 8.5.1 exec()메서드\n",
    "- 문자열 내에서 특정 문자열을 검색하여 매치 결과를 배열로 반환합니다. 만약 매치가 없으면 null을 반환 합니다."
   ]
  },
  {
   "cell_type": "markdown",
   "metadata": {},
   "source": [
    ">8.5.2  test()메서드\n",
    "- 문자열내 특정 문자열을 검색하여 매치가 있으면 true를 반환하고 없으면 false를 반환한다.\n"
   ]
  },
  {
   "cell_type": "markdown",
   "metadata": {},
   "source": []
  }
 ],
 "metadata": {
  "language_info": {
   "name": "python"
  }
 },
 "nbformat": 4,
 "nbformat_minor": 2
}
