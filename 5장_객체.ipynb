{
 "cells": [
  {
   "cell_type": "markdown",
   "metadata": {},
   "source": [
    "### 5장 객체 \n",
    "- 객체는 프로퍼티와 메서드로 구성 됩니다.자바스크립트에서는 변수, 함수, 배열, 숫자, 문자열 등이 모두 객체에 기반하고 있습니다.\n",
    "- 객체를 생성하고\n",
    "- 프로퍼티와 메서드에 접근하는 방법에 대해 배운다.\n",
    "- \"또한 생성자 함수를 이용하여 객체를 생성하고 활용하는 방법에 대해 알아보자."
   ]
  },
  {
   "cell_type": "markdown",
   "metadata": {},
   "source": [
    ">#### 5.1 객체 생성\n",
    "- 객체는 프로퍼티와 메서의의 집합입니다. 객체의 프로퍼티는 변수와 같은 개념이다. 그리고 메서드는 함수와 거의 동일하다.\n",
    "-function, arry,date,math등 모든 것이 객체입니다."
   ]
  },
  {
   "cell_type": "markdown",
   "metadata": {},
   "source": [
    "> 5.2 프로퍼티\n",
    "- 5.2.1 For In문으로 프로퍼티 읽기"
   ]
  },
  {
   "cell_type": "markdown",
   "metadata": {},
   "source": [
    "- 5.2.2 프로퍼티 추가하기"
   ]
  },
  {
   "cell_type": "markdown",
   "metadata": {},
   "source": [
    "- 5.2.3 프로퍼티 삭제하기\n",
    "- delete키워드를 사용한다."
   ]
  },
  {
   "cell_type": "markdown",
   "metadata": {},
   "source": [
    "- 5.2.4 중첩객체 nested object\n",
    "    - 객체안에 객체를 포함한다."
   ]
  },
  {
   "cell_type": "markdown",
   "metadata": {},
   "source": [
    "#### 5.3 메서드\n",
    "> 5.3.1 메서드란?\n",
    "- 메서드는 객체에 소속된 함수입니다. 달리말하면 프로퍼티는 객체의 상태를 의미하고 메서드는 객체의 동작을 정의한다고 할 수 있습니다."
   ]
  },
  {
   "cell_type": "markdown",
   "metadata": {},
   "source": [
    "> 5.3.2 메서드 추가하기"
   ]
  },
  {
   "cell_type": "markdown",
   "metadata": {},
   "source": [
    "> 5.3.3 내장메서드\n",
    "- toFixed()메서드는 부동소수점 숫자의 소수점이하 부분을 반올림한 문자열을 반환한다.\n",
    "- toUpperCase()메서드는 영문 소문자를 대문자로 변경한다."
   ]
  },
  {
   "cell_type": "markdown",
   "metadata": {},
   "source": [
    "#### 5.4 생성자 함수\n",
    "> 5.4.1 생성자 함수란>?\n",
    "- 일반함수와 기능적 차이는 없습니다. new연산자와 함께 자바스크립트에서 객체를 생성하기 위해 사용됩니다. 생성자 함수를 정의 할 때는 일반함수와 구별하기 위해 첫 글자를 영문 대문자로 시작합니다."
   ]
  },
  {
   "cell_type": "markdown",
   "metadata": {},
   "source": [
    "> 5.4.2 생성자 함수의 메서드"
   ]
  },
  {
   "cell_type": "markdown",
   "metadata": {},
   "source": [
    "#### 5.5 프로토타입\n",
    "- 자바스크립트는 prototype을 기반으로 객체지향 프로그래밍을 할 수 있다\n",
    "- 생성자함수 외부에서 프로퍼티나 메서드를 추가하려면 프로토타입을 이용하여야 한다."
   ]
  },
  {
   "cell_type": "markdown",
   "metadata": {},
   "source": [
    "#### 5.6 클래스\n",
    "- 객체를 생성하기 위한 틀,즉  템플릿이빈다. ES6 버전부터 클래스를 지원한다. 자바스크립트에서 글래스는 함수와 유사한 구조를 가지며 클래스는 특별한 함수라고 볼 수 있다."
   ]
  },
  {
   "cell_type": "markdown",
   "metadata": {},
   "source": [
    "> 5.6.1 클래스 기본 구조"
   ]
  },
  {
   "cell_type": "markdown",
   "metadata": {},
   "source": [
    "> 5.6.2 클래스 상속\n",
    "- 클래스 상속에는 키워드 extends를 사용합니다."
   ]
  },
  {
   "cell_type": "markdown",
   "metadata": {},
   "source": [
    "> 5.6.3 정적 메서드\n",
    "- 정적메서드는 어떤 특정한 객체가 아닌 클래스에 속한 메서드를 구현하는 데 사용됩니다. 그리고 정적 메서드는클래스를 통해 호출할 수 있습니다."
   ]
  },
  {
   "cell_type": "markdown",
   "metadata": {},
   "source": []
  }
 ],
 "metadata": {
  "language_info": {
   "name": "python"
  }
 },
 "nbformat": 4,
 "nbformat_minor": 2
}
