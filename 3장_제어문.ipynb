{
 "cells": [
  {
   "cell_type": "markdown",
   "metadata": {},
   "source": [
    "### 제3장 제어문\n",
    "- if\n",
    "- switch\n",
    "- for\n",
    "- while\n",
    "- do while"
   ]
  },
  {
   "cell_type": "markdown",
   "metadata": {},
   "source": [
    "#### 3.1 if문\n",
    "- if~\n",
    "- if~else~\n",
    "- if~else if ~else~"
   ]
  },
  {
   "cell_type": "markdown",
   "metadata": {},
   "source": [
    "> 3.1.1 if구문\n",
    "- 조건식이 참이면 중괄호{}안에 있는 문장을 실행한다.\n",
    "- if(조건식){\n",
    "    문장\n",
    "}"
   ]
  },
  {
   "cell_type": "code",
   "execution_count": null,
   "metadata": {
    "vscode": {
     "languageId": "javascript"
    }
   },
   "outputs": [],
   "source": [
    "<script>\n",
    "        let x = 10000;\n",
    "        let age = 80;\n",
    "\n",
    "        if (age >= 65) {\n",
    "            x = 0;\n",
    "        }\n",
    "        document.write(\"입장료:\" + x + \"원\");\n",
    "    </script>"
   ]
  },
  {
   "cell_type": "code",
   "execution_count": null,
   "metadata": {},
   "outputs": [],
   "source": [
    "- 위와 같이 if문중 하나의 문장만 존재하면 {}를 생략할 수 있다\n",
    "if (age>=65)\n",
    "    x=0;"
   ]
  },
  {
   "cell_type": "markdown",
   "metadata": {},
   "source": [
    "> 3.1.2 if ~ else~구문\n",
    "- if(조건식){  \n",
    "    문장;  \n",
    "    ...  \n",
    "}  \n",
    "else{  \n",
    "    문장;  \n",
    "    ...  \n",
    "}  "
   ]
  },
  {
   "cell_type": "code",
   "execution_count": null,
   "metadata": {
    "vscode": {
     "languageId": "latex"
    }
   },
   "outputs": [],
   "source": [
    "<script> //정수가 짝수인지 홀수인지 판별하는프로그램\n",
    "let num = 8;\n",
    "\n",
    "if (num % 2 == 0) {\n",
    "    document.write(num + \":는 짝수입니다\");\n",
    "}\n",
    "else {\n",
    "    document.write(num + \":는 홀수입니다\");\n",
    "}\n",
    "</script>"
   ]
  },
  {
   "cell_type": "markdown",
   "metadata": {},
   "source": [
    "> 3.1.3 if_else if ~else~\n",
    "- 조건이 세가지 이상일 경우에 사용된다."
   ]
  },
  {
   "cell_type": "code",
   "execution_count": null,
   "metadata": {
    "vscode": {
     "languageId": "javascript"
    }
   },
   "outputs": [],
   "source": [
    "<script> //학점계산하기\n",
    "let score = 60;\n",
    "\n",
    "if (score >= 90) {\n",
    "    grade = \"A\";\n",
    "}\n",
    "else if (score >= 80) {\n",
    "    grade = \"B\";\n",
    "}\n",
    "else if (score >= 70) {\n",
    "    grade = \"C\";\n",
    "}\n",
    "else if (score >= 60) {\n",
    "    grade = \"D\";\n",
    "}\n",
    "else  {\n",
    "    grade = \"F\";\n",
    "}\n",
    "document.write(\"점수:\" + score + \", 학점:\" + grade);\n",
    "\n",
    "</script>"
   ]
  },
  {
   "cell_type": "markdown",
   "metadata": {},
   "source": [
    "#### "
   ]
  },
  {
   "cell_type": "markdown",
   "metadata": {},
   "source": [
    "#### 3.2 Switch문\n",
    "- if문과 거의 같은 방식으로 동작한다. 어떤 상황에서는 프로그램을 좀 더 편리하고 간결하게 작성할 수 있다.\n"
   ]
  },
  {
   "cell_type": "code",
   "execution_count": null,
   "metadata": {
    "vscode": {
     "languageId": "latex"
    }
   },
   "outputs": [],
   "source": [
    "switch(변수){\n",
    "    case 값1 :\n",
    "        문장;\n",
    "        ....\n",
    "        break;\n",
    "        case 값2 :\n",
    "        문장;\n",
    "        ....\n",
    "        break;\n",
    "        defalt:\n",
    "        문장;\n",
    "        ....\n",
    "}"
   ]
  },
  {
   "cell_type": "markdown",
   "metadata": {},
   "source": [
    "- switch 변수안에 있는 값에 따라 case문이 실행됩니다. 그 외 나머지 모든 경우에는 defalt에 있는 문장들이 실행됩니다."
   ]
  },
  {
   "cell_type": "code",
   "execution_count": null,
   "metadata": {
    "vscode": {
     "languageId": "shellscript"
    }
   },
   "outputs": [],
   "source": [
    "  \n",
    "    <script> //학점계산하기\n",
    "        let num1 = 10;\n",
    "        let num2 = 20;\n",
    "        let operator = \"/\";\n",
    "\n",
    "        switch (operator) {\n",
    "            case \"+\":\n",
    "                result = num1 + num2;\n",
    "                alert(num1 + \"+\" + num2 + \"=\" + result);\n",
    "                break;\n",
    "            case \"-\":\n",
    "                result = num1 - num2;\n",
    "                alert(num1 + \"-\" + num2 + \"=\" + result);\n",
    "                break;\n",
    "            case \"/\":\n",
    "                result = num1 / num2;\n",
    "                alert(num1 + \"/\" + num2 + \"=\" + result);\n",
    "                break;\n",
    "            default:\n",
    "                alert(\"입력오류\");\n",
    "                break;\n",
    "        }\n",
    "\n",
    "\n",
    "    </script>\n"
   ]
  },
  {
   "cell_type": "markdown",
   "metadata": {},
   "source": [
    "#### 3.3 for문 \n"
   ]
  },
  {
   "cell_type": "markdown",
   "metadata": {},
   "source": [
    "> 3.3.1For문의 기본구조\n",
    "- for(초기값; 조건식; 증가_감소;){  문장 ........}"
   ]
  },
  {
   "cell_type": "code",
   "execution_count": null,
   "metadata": {
    "vscode": {
     "languageId": "latex"
    }
   },
   "outputs": [],
   "source": [
    "    <script> //학점계산하기\n",
    "        for (let i = 1; i <= 3; i++) {\n",
    "            document.write(\"안녕\" + \"<br>\")\n",
    "        }\n",
    "    </script>\n"
   ]
  },
  {
   "cell_type": "code",
   "execution_count": null,
   "metadata": {
    "vscode": {
     "languageId": "latex"
    }
   },
   "outputs": [],
   "source": [
    "* for문으로 글자에 색 입히기\n",
    "<script> //for문으로 글자에 색입히기\n",
    "const color = [\"red\", \"blue\", \"green\", \"yellow\"]\n",
    "let text = \"\"\n",
    "for (let i = 0; i <= 3; i++) {\n",
    "    text += `<span style='color:${color[i]}'>안녕</span><br>`;\n",
    "}\n",
    "document.write(text)\n",
    "\n",
    "</script>\n"
   ]
  },
  {
   "cell_type": "code",
   "execution_count": null,
   "metadata": {
    "vscode": {
     "languageId": "latex"
    }
   },
   "outputs": [],
   "source": [
    "<script> //for문으로 글자에 색입히기\n",
    "let inch, cm;\n",
    "document.write(\"==============\" + \"<br>\");\n",
    "document.write(\"인치 센치미터\" + \"<br>\");\n",
    "document.write(\"==============\" + \"<br>\");\n",
    "\n",
    "for (inch = 1; inch <= 50; inch++) {\n",
    "    cm = inch * 2.54;\n",
    "    cm = cm.toFixed(2);\n",
    "    document.write(inch + \"   \" + \"   \" + \"   \" + cm + \"<br>\");\n",
    "}\n",
    "</script>\n",
    "\n",
    "* 소수점 둘째 자리까지으ㅟ 값을 구하라는 코드는 toFixed(2)메서드를 사용한다."
   ]
  },
  {
   "cell_type": "markdown",
   "metadata": {},
   "source": [
    "> 3.3.2 For in 문\n",
    "- 객체의 요소들을 반복해서 읽어 올때 사용되는 For in문의 사용형식은 다음과 같다.\n",
    "    - for(변수 in 객체){ 문장 ...\n",
    "    }"
   ]
  },
  {
   "cell_type": "code",
   "execution_count": null,
   "metadata": {
    "vscode": {
     "languageId": "latex"
    }
   },
   "outputs": [],
   "source": [
    "    <script> \n",
    "        const member = { \"id\": \"ko\", name: 'gildong', age: 30 };\n",
    "\n",
    "        for (let x in member) {\n",
    "            document.write(member[x] + \"<br>\");\n",
    "        }\n",
    "    </script>\n",
    "*** 각 루프마다 반복되는 x는 member 객체의 키 이름을 가집니다(id,name,age) 따라서 member객체의 요소들은 member[x]로 접근할 수있다."
   ]
  },
  {
   "cell_type": "markdown",
   "metadata": {},
   "source": [
    "> for of문"
   ]
  },
  {
   "cell_type": "code",
   "execution_count": null,
   "metadata": {
    "vscode": {
     "languageId": "latex"
    }
   },
   "outputs": [],
   "source": [
    "# for of문의 사용법\n",
    "<script>\n",
    "const scores = [88, 75, 24, 54, 53, 26];\n",
    "for (let x of scores) {\n",
    "    document.write(x + \"<br>\");\n",
    "}\n",
    "</script>\n"
   ]
  },
  {
   "cell_type": "markdown",
   "metadata": {},
   "source": [
    "> 3.3.4 이중 For문"
   ]
  },
  {
   "cell_type": "code",
   "execution_count": null,
   "metadata": {
    "vscode": {
     "languageId": "latex"
    }
   },
   "outputs": [],
   "source": [
    "    <script> //구구단\n",
    "\n",
    "        let result = 0;\n",
    "        let text = \"\";  //null로 초기화 \n",
    "        text += \"<table border='1'>\";\n",
    "        for (let i = 2; i <= 9; i++) {\n",
    "            text += \"<tr>\";\n",
    "            for (let j = 1; j <= 9; j++) {\n",
    "                result = i * j;\n",
    "                text += \"<td>\" + i + \"*\" + j + \"=\" + result + \"</td>\";\n",
    "            }\n",
    "            text += \"</tr>\";\n",
    "        }\n",
    "        text += \"</table>\";\n",
    "        document.getElementById(\"show\").innerHTML = text;\n",
    "    </script>\n",
    "* 구구단을 자바스크립트로 작성하는 코딩에다가 테이블로 표시까지 하는 코드 : html에서 사용하는 테이블태그가 익숙치는 않다"
   ]
  },
  {
   "cell_type": "markdown",
   "metadata": {},
   "source": [
    "#### 3.4 While문\n",
    "- while문은 for 문과 마찬가지로 특정코드를 반복해서 실행해야 하는 경우 사용된다."
   ]
  },
  {
   "cell_type": "markdown",
   "metadata": {},
   "source": [
    "> 3.4.1 While문의 기본구조\n",
    "- while(조건식){  문장  ....    }\n",
    "- while문은 조건이 참인 동안 문장을 반복한다. 거짓이되는 순간 루프를 빠져나간다."
   ]
  },
  {
   "cell_type": "markdown",
   "metadata": {},
   "source": [
    "> Do While문\n",
    "- While문과 달리 조건식이 가장 마지막에 위치한다.\n",
    "- do{    문장  } while(조건식)"
   ]
  },
  {
   "cell_type": "markdown",
   "metadata": {},
   "source": [
    "#### 3.5 Break/Continue문\n",
    "-  Break문은 FOr문이나 While문의 반복 루프가 진행되는 도중에 루프를 빠져나가고자 할 때 사용된다."
   ]
  },
  {
   "cell_type": "markdown",
   "metadata": {},
   "source": []
  }
 ],
 "metadata": {
  "kernelspec": {
   "display_name": "Python 3",
   "language": "python",
   "name": "python3"
  },
  "language_info": {
   "codemirror_mode": {
    "name": "ipython",
    "version": 3
   },
   "file_extension": ".py",
   "mimetype": "text/x-python",
   "name": "python",
   "nbconvert_exporter": "python",
   "pygments_lexer": "ipython3",
   "version": "3.12.2"
  }
 },
 "nbformat": 4,
 "nbformat_minor": 2
}
