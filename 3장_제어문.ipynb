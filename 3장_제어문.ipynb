{
 "cells": [
  {
   "cell_type": "markdown",
   "metadata": {},
   "source": [
    "### 제3장 제어문\n",
    "- if\n",
    "- switch\n",
    "- for\n",
    "- while\n",
    "- do while"
   ]
  },
  {
   "cell_type": "markdown",
   "metadata": {},
   "source": [
    "#### 3.1 if문\n",
    "- if~\n",
    "- if~else~\n",
    "- if~else if ~else~"
   ]
  },
  {
   "cell_type": "markdown",
   "metadata": {},
   "source": [
    "> 3.1.1 if구문\n",
    "- 조건식이 참이면 중괄호{}안에 있는 문장을 실행한다.\n",
    "- if(조건식){\n",
    "    문장\n",
    "}"
   ]
  },
  {
   "cell_type": "code",
   "execution_count": null,
   "metadata": {
    "vscode": {
     "languageId": "javascript"
    }
   },
   "outputs": [],
   "source": [
    "<script>\n",
    "        let x = 10000;\n",
    "        let age = 80;\n",
    "\n",
    "        if (age >= 65) {\n",
    "            x = 0;\n",
    "        }\n",
    "        document.write(\"입장료:\" + x + \"원\");\n",
    "    </script>"
   ]
  },
  {
   "cell_type": "code",
   "execution_count": null,
   "metadata": {
    "vscode": {
     "languageId": "ini"
    }
   },
   "outputs": [],
   "source": [
    "- 위와 같이 if문중 하나의 문장만 존재하면 {}를 생략할 수 있다\n",
    "if (age>=65)\n",
    "    x=0;"
   ]
  },
  {
   "cell_type": "markdown",
   "metadata": {},
   "source": [
    "> 3.1.2 if ~ else~구문\n",
    "- if(조건식){  \n",
    "    문장;  \n",
    "    ...  \n",
    "}  \n",
    "else{  \n",
    "    문장;  \n",
    "    ...  \n",
    "}  "
   ]
  },
  {
   "cell_type": "code",
   "execution_count": null,
   "metadata": {
    "vscode": {
     "languageId": "latex"
    }
   },
   "outputs": [],
   "source": [
    "<script> //정수가 짝수인지 홀수인지 판별하는프로그램\n",
    "let num = 8;\n",
    "\n",
    "if (num % 2 == 0) {\n",
    "    document.write(num + \":는 짝수입니다\");\n",
    "}\n",
    "else {\n",
    "    document.write(num + \":는 홀수입니다\");\n",
    "}\n",
    "</script>"
   ]
  },
  {
   "cell_type": "markdown",
   "metadata": {},
   "source": [
    "> 3.1.3 if_else if ~else~\n",
    "- 조건이 세가지 이상일 경우에 사용된다."
   ]
  },
  {
   "cell_type": "code",
   "execution_count": null,
   "metadata": {
    "vscode": {
     "languageId": "javascript"
    }
   },
   "outputs": [],
   "source": [
    "<script> //학점계산하기\n",
    "let score = 60;\n",
    "\n",
    "if (score >= 90) {\n",
    "    grade = \"A\";\n",
    "}\n",
    "else if (score >= 80) {\n",
    "    grade = \"B\";\n",
    "}\n",
    "else if (score >= 70) {\n",
    "    grade = \"C\";\n",
    "}\n",
    "else if (score >= 60) {\n",
    "    grade = \"D\";\n",
    "}\n",
    "else  {\n",
    "    grade = \"F\";\n",
    "}\n",
    "document.write(\"점수:\" + score + \", 학점:\" + grade);\n",
    "\n",
    "</script>"
   ]
  },
  {
   "cell_type": "markdown",
   "metadata": {},
   "source": [
    "#### "
   ]
  },
  {
   "cell_type": "markdown",
   "metadata": {},
   "source": [
    "#### 3.2 Switch문\n",
    "- if문과 거의 같은 방식으로 동작한다. 어떤 상황에서는 프로그램을 좀 더 편리하고 간결하게 작성할 수 있다.\n"
   ]
  },
  {
   "cell_type": "code",
   "execution_count": null,
   "metadata": {
    "vscode": {
     "languageId": "latex"
    }
   },
   "outputs": [],
   "source": [
    "switch(변수){\n",
    "    case 값1 :\n",
    "        문장;\n",
    "        ....\n",
    "        break;\n",
    "        case 값2 :\n",
    "        문장;\n",
    "        ....\n",
    "        break;\n",
    "        defalt:\n",
    "        문장;\n",
    "        ....\n",
    "}"
   ]
  },
  {
   "cell_type": "markdown",
   "metadata": {},
   "source": [
    "- switch 변수안에 있는 값에 따라 case문이 실행됩니다. 그 외 나머지 모든 경우에는 defalt에 있는 문장들이 실행됩니다."
   ]
  },
  {
   "cell_type": "code",
   "execution_count": null,
   "metadata": {
    "vscode": {
     "languageId": "shellscript"
    }
   },
   "outputs": [],
   "source": [
    "  \n",
    "    <script> //학점계산하기\n",
    "        let num1 = 10;\n",
    "        let num2 = 20;\n",
    "        let operator = \"/\";\n",
    "\n",
    "        switch (operator) {\n",
    "            case \"+\":\n",
    "                result = num1 + num2;\n",
    "                alert(num1 + \"+\" + num2 + \"=\" + result);\n",
    "                break;\n",
    "            case \"-\":\n",
    "                result = num1 - num2;\n",
    "                alert(num1 + \"-\" + num2 + \"=\" + result);\n",
    "                break;\n",
    "            case \"/\":\n",
    "                result = num1 / num2;\n",
    "                alert(num1 + \"/\" + num2 + \"=\" + result);\n",
    "                break;\n",
    "            default:\n",
    "                alert(\"입력오류\");\n",
    "                break;\n",
    "        }\n",
    "\n",
    "\n",
    "    </script>\n"
   ]
  },
  {
   "cell_type": "markdown",
   "metadata": {},
   "source": [
    "> a\n"
   ]
  },
  {
   "cell_type": "markdown",
   "metadata": {},
   "source": []
  }
 ],
 "metadata": {
  "kernelspec": {
   "display_name": "Python 3",
   "language": "python",
   "name": "python3"
  },
  "language_info": {
   "codemirror_mode": {
    "name": "ipython",
    "version": 3
   },
   "file_extension": ".py",
   "mimetype": "text/x-python",
   "name": "python",
   "nbconvert_exporter": "python",
   "pygments_lexer": "ipython3",
   "version": "3.12.1"
  }
 },
 "nbformat": 4,
 "nbformat_minor": 2
}
