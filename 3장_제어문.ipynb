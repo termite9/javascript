{
 "cells": [
  {
   "cell_type": "markdown",
   "metadata": {},
   "source": [
    "### 제3장 제어문\n",
    "- if\n",
    "- switch\n",
    "- for\n",
    "- while\n",
    "- do while"
   ]
  },
  {
   "cell_type": "markdown",
   "metadata": {},
   "source": [
    "#### 3.1 if문\n",
    "- if~\n",
    "- if~else~\n",
    "- if~else if ~else~"
   ]
  },
  {
   "cell_type": "markdown",
   "metadata": {},
   "source": [
    "> 3.1.1 if구문\n",
    "- 조건식이 참이면 중괄호{}안에 있는 문장을 실행한다.\n",
    "- if(조건식){\n",
    "    문장\n",
    "}"
   ]
  },
  {
   "cell_type": "code",
   "execution_count": null,
   "metadata": {
    "vscode": {
     "languageId": "latex"
    }
   },
   "outputs": [],
   "source": [
    "<script>\n",
    "        let x = 10000;\n",
    "        let age = 80;\n",
    "\n",
    "        if (age >= 65) {\n",
    "            x = 0;\n",
    "        }\n",
    "        document.write(\"입장료:\" + x + \"원\");\n",
    "    </script>"
   ]
  },
  {
   "cell_type": "code",
   "execution_count": null,
   "metadata": {
    "vscode": {
     "languageId": "plaintext"
    }
   },
   "outputs": [],
   "source": [
    "- 위와 같이 if문중 하나의 문장만 존재하면 {}를 생략할 수 있다\n",
    "if (age>=65)\n",
    "    x=0;"
   ]
  },
  {
   "cell_type": "markdown",
   "metadata": {},
   "source": [
    "> 3.1.2 if ~ else~구문\n",
    "- if(조건식){  \n",
    "    문장;  \n",
    "    ...  \n",
    "}  \n",
    "else{  \n",
    "    문장;  \n",
    "    ...  \n",
    "}  "
   ]
  },
  {
   "cell_type": "code",
   "execution_count": null,
   "metadata": {
    "vscode": {
     "languageId": "latex"
    }
   },
   "outputs": [],
   "source": [
    "<script> //정수가 짝수인지 홀수인지 판별하는프로그램\n",
    "let num = 8;\n",
    "\n",
    "if (num % 2 == 0) {\n",
    "    document.write(num + \":는 짝수입니다\");\n",
    "}\n",
    "else {\n",
    "    document.write(num + \":는 홀수입니다\");\n",
    "}\n",
    "</script>"
   ]
  },
  {
   "cell_type": "markdown",
   "metadata": {},
   "source": [
    "> 3.1.3 if_else if ~else~\n",
    "- 조건이 세가지 이상일 경우에 사용된다."
   ]
  }
 ],
 "metadata": {
  "language_info": {
   "name": "python"
  }
 },
 "nbformat": 4,
 "nbformat_minor": 2
}
