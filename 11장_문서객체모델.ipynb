{
 "cells": [
  {
   "cell_type": "markdown",
   "metadata": {},
   "source": [
    "### 11장 문서객체모델(DOM)\n",
    "- HTML문서의 구조화된 표현 입니다. 자바스크립트에서는 DOM구조에 접근하여 HTML문서의 구조,스타일,내용 등을 변경할 수 있습니다. "
   ]
  },
  {
   "cell_type": "markdown",
   "metadata": {},
   "source": [
    "#### 11.1 문서객체모델이란?\n",
    "- Document Object Model은 HTML의 구조화된 표현입니다.\n",
    "- 현재 웹브라우저에서 DOM을 조작하는 언어는 자바스크립트가 유일합니다."
   ]
  },
  {
   "cell_type": "markdown",
   "metadata": {},
   "source": [
    ">11.1.1 DOM구조\n",
    "\n",
    "- DOM에서 모든 HTML요소들은 객체로 정의 됩니다."
   ]
  },
  {
   "cell_type": "markdown",
   "metadata": {},
   "source": [
    ">11.1.2 DOM의 메서드와 프로퍼티"
   ]
  },
  {
   "cell_type": "markdown",
   "metadata": {},
   "source": [
    ">11.1.3 Document객체\n",
    "- 웹페이지에 있는 모든 객체들의 소유주라고 할 수 있습니다."
   ]
  },
  {
   "cell_type": "markdown",
   "metadata": {},
   "source": [
    "#### 11.2 HTML요소 선택\n",
    "- 자바스크립트에서 웹 페이지에 있는 HTML요소를 추가 수정 ,삭제 하기 위해서는 제일 먼저 페이지내에 존재하는 해당 요소를 선택해야 합니다. 선택하는 방법은 크게 다섯가지가 있습니다."
   ]
  },
  {
   "cell_type": "markdown",
   "metadata": {},
   "source": [
    ">11.2.1 아이디로 요소 선택하기\n",
    "- 가장간단한 방법으로 요소의 id와  getElementById()메서드를 이용한다"
   ]
  },
  {
   "cell_type": "markdown",
   "metadata": {},
   "source": [
    ">11.2.2 태그이름으로 요소 선택하기\n",
    "- getElementByTagName()메서드는 HTML태그이름으로 요소를 선택할 때 사용한다."
   ]
  },
  {
   "cell_type": "markdown",
   "metadata": {},
   "source": [
    ">11.2.3 클래스 이름으로 요소 선택하기\n",
    "- getElementByClassName()메서드는 클래스 이름으로 요소들을 선택할 때 사용됩니다."
   ]
  },
  {
   "cell_type": "markdown",
   "metadata": {},
   "source": [
    ">11.2.4  CSS선택자로 요소 선택하기\n",
    "- CSS선택자도 자바스크립트에서 요소를 선택하는데 사용될 수 있습니다."
   ]
  },
  {
   "cell_type": "markdown",
   "metadata": {},
   "source": [
    "#### 11.3 HTML요소 내용과 속성"
   ]
  },
  {
   "cell_type": "markdown",
   "metadata": {},
   "source": [
    ">11.3.1 요소 내용 가져오기\n",
    "- innerHTML과 innerText프로퍼티를 이용합니다."
   ]
  },
  {
   "cell_type": "markdown",
   "metadata": {},
   "source": [
    ">11.3.2 요소 내용 설정하기\n",
    "- 이 또한 DOM의 innerHTML과 innetText를 사용합니다"
   ]
  },
  {
   "cell_type": "markdown",
   "metadata": {},
   "source": [
    ">11.3.3 요소 속송 변경하기\n",
    "- DOM에서 HTML객체의 프로퍼티에 값으 설정함으로써 HTML요소의 속성값을 변경할 수 있습니다."
   ]
  },
  {
   "cell_type": "markdown",
   "metadata": {},
   "source": [
    ">11.3.4 요소 CSS변경하기\n",
    "- HTML요서의 CSS도 변경할 수 있다"
   ]
  },
  {
   "cell_type": "markdown",
   "metadata": {},
   "source": [
    "#### 11.4 Document객체의 프로퍼티\n",
    "- URL\n",
    "- title\n",
    "- forms\n",
    "- links\n",
    "- image"
   ]
  },
  {
   "cell_type": "markdown",
   "metadata": {},
   "source": [
    ">11.4.1 URL 프로퍼티\n",
    "- 문서의 URL주소를 반환합니다."
   ]
  },
  {
   "cell_type": "markdown",
   "metadata": {},
   "source": [
    ">11.4.2 title 프로퍼티\n",
    "- 문서의 제목을 설정하거나 가져오는데 사용됩니다."
   ]
  },
  {
   "cell_type": "markdown",
   "metadata": {},
   "source": [
    ">11.4.3 forms 프로퍼티\n",
    "- 문서의 모든 form 요소를 저장한 HTMLCollection 객체를 반환합니다"
   ]
  },
  {
   "cell_type": "markdown",
   "metadata": {},
   "source": [
    ">11.4.4 links프로퍼티\n",
    "-   문서에서 <a>의 요소를 포함한 모든 링크 요소로 구성된 객체를 반환한다."
   ]
  },
  {
   "cell_type": "markdown",
   "metadata": {},
   "source": [
    ">11.4.5 images프로퍼티\n",
    "- 문서에서 모든 <img>요소의 콜렉션을 반환합니다."
   ]
  },
  {
   "cell_type": "markdown",
   "metadata": {},
   "source": [
    "#### 11.5 HTML폼검증\n",
    "- 폼에 사용자가 입력한 데이터를 서버로 보내기 전에 데이터가 유효한지를 검증할 수 있습니다."
   ]
  },
  {
   "cell_type": "markdown",
   "metadata": {},
   "source": [
    ">11.5.1 폼 입력 여부 체크하기"
   ]
  },
  {
   "cell_type": "markdown",
   "metadata": {},
   "source": [
    ">11.5.2 숫자입력 검증하기\n",
    "- 1에서 10까지의 숫자가 입력되었는지를 체크합니다."
   ]
  },
  {
   "cell_type": "code",
   "execution_count": null,
   "metadata": {},
   "outputs": [],
   "source": []
  },
  {
   "cell_type": "markdown",
   "metadata": {},
   "source": [
    "#### 11.6 DOM 노드\n",
    "- 계층적 트리구조를 가지고 있다.\n",
    "- 자바스크립트에서는 DOM을 이용하여 DOM트리에 포함된 모든 노드에 접근하고 노드의 추가 생성 삭제 등의 조작을 할 수있다."
   ]
  },
  {
   "cell_type": "markdown",
   "metadata": {},
   "source": [
    ">11.6.1 노드의 종류\n",
    "- 요소노드(element node) : <body>,<p>,<div>등 모든 HTML요소를 의미함\n",
    "- 속성노드(arrtibute node) : HTML요소의 속성을 의미함\n",
    "- 텍스트노드(text node) : HTML문서에 있는 모든 텍스트를 의미함.\n",
    "- 문서노드(document node) : HTML문서 전체를 의미함 \n",
    "- 주석노드(comment node) : HTML주석뭉사이에 포함된 모든 주석을 의미함"
   ]
  },
  {
   "cell_type": "markdown",
   "metadata": {},
   "source": [
    ">11.6.2 노드 추가하기\n",
    "- appendChild"
   ]
  },
  {
   "cell_type": "markdown",
   "metadata": {},
   "source": [
    ">11.6.3 노드 삽입하기\n"
   ]
  },
  {
   "cell_type": "markdown",
   "metadata": {},
   "source": [
    ">11.6.4 노드 삭제하기"
   ]
  },
  {
   "cell_type": "markdown",
   "metadata": {},
   "source": [
    ">11.6.5 노드 변경하기"
   ]
  }
 ],
 "metadata": {
  "kernelspec": {
   "display_name": "Python 3",
   "language": "python",
   "name": "python3"
  },
  "language_info": {
   "codemirror_mode": {
    "name": "ipython",
    "version": 3
   },
   "file_extension": ".py",
   "mimetype": "text/x-python",
   "name": "python",
   "nbconvert_exporter": "python",
   "pygments_lexer": "ipython3",
   "version": "3.12.1"
  }
 },
 "nbformat": 4,
 "nbformat_minor": 2
}
