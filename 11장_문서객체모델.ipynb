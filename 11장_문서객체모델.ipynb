{
 "cells": [
  {
   "cell_type": "markdown",
   "metadata": {},
   "source": [
    "### 11장 문서객체모델(DOM)\n",
    "- HTML문서의 구조화된 표현 입니다. 자바스크립트에서는 DOM구조에 접근하여 HTML문서의 구조,스타일,내용 등을 변경할 수 있습니다. "
   ]
  },
  {
   "cell_type": "markdown",
   "metadata": {},
   "source": [
    "#### 11.1 문서객체모델이란?\n",
    "- Document Object Model은 HTML의 구조화된 표현입니다.\n",
    "- 현재 웹브라우저에서 DOM을 조작하는 언어는 자바스크립트가 유일합니다."
   ]
  },
  {
   "cell_type": "markdown",
   "metadata": {},
   "source": [
    ">11.1.1 DOM구조\n",
    "\n",
    "- DOM에서 모든 HTML요소들은 객체로 정의 됩니다."
   ]
  },
  {
   "cell_type": "markdown",
   "metadata": {},
   "source": [
    ">11.1.2 DOM의 메서드와 프로퍼티"
   ]
  },
  {
   "cell_type": "markdown",
   "metadata": {},
   "source": [
    ">11.1.3 Document객체\n",
    "- 웹페이지에 있는 모든 객체들의 소유주라고 할 수 있습니다."
   ]
  },
  {
   "cell_type": "markdown",
   "metadata": {},
   "source": [
    "#### 11.2 HTML요소 선택\n",
    "- 자바스크립트에서 웹 페이지에 있는 HTML요소를 추가 수정 ,삭제 하기 위해서는 제일 먼저 페이지내에 존재하는 해당 요소를 선택해야 합니다. 선택하는 방법은 크게 다섯가지가 있습니다."
   ]
  },
  {
   "cell_type": "markdown",
   "metadata": {},
   "source": [
    ">11.2.1 아이디로 요소 선택하기\n",
    "- 가장간단한 방법으로 요소의 id와  getElementById()메서드를 이용한다"
   ]
  },
  {
   "cell_type": "markdown",
   "metadata": {},
   "source": [
    ">11.2.2 태그이름으로 요소 선택하기\n",
    "- getElementByTagName()메서드는 HTML태그이름으로 요소를 선택할 때 사용한다."
   ]
  },
  {
   "cell_type": "markdown",
   "metadata": {},
   "source": [
    ">11.2.3 클래스 이름으로 요소 선택하기\n",
    "- getElementByClassName()메서드는 클래스 이름으로 요소들을 선택할 때 사용됩니다."
   ]
  },
  {
   "cell_type": "markdown",
   "metadata": {},
   "source": [
    ">11.2.4  CSS선택자로 요소 선택하기\n",
    "- CSS선택자도 자바스크립트에서 요소를 선택하는데 사용될 수 있습니다."
   ]
  },
  {
   "cell_type": "markdown",
   "metadata": {},
   "source": [
    "#### 11.3 HTML요소 내용과 속성"
   ]
  },
  {
   "cell_type": "markdown",
   "metadata": {},
   "source": [
    ">11.3.1 요소 내용 가져오기\n",
    "- innerHTML과 innerText프로퍼티를 이용합니다."
   ]
  },
  {
   "cell_type": "markdown",
   "metadata": {},
   "source": [
    ">11.3.2 요소 내용 설정하기\n",
    "- 이 또한 DOM의 innerHTML과 innetText를 사용합니다"
   ]
  },
  {
   "cell_type": "markdown",
   "metadata": {},
   "source": [
    ">11.3.3 요소 속송 변경하기\n",
    "- DOM에서 HTML객체의 프로퍼티에 값으 설정함으로써 HTML요소의 속성값을 변경할 수 있습니다."
   ]
  },
  {
   "cell_type": "markdown",
   "metadata": {},
   "source": [
    ">11.3.4 요소 CSS변경하기\n",
    "- HTML요서의 CSS도 변경할 수 있다"
   ]
  },
  {
   "cell_type": "markdown",
   "metadata": {},
   "source": []
  }
 ],
 "metadata": {
  "language_info": {
   "name": "python"
  }
 },
 "nbformat": 4,
 "nbformat_minor": 2
}
