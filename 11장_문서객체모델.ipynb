{
 "cells": [
  {
   "cell_type": "markdown",
   "metadata": {},
   "source": [
    "### 11장 문서객체모델(DOM)\n",
    "- HTML문서의 구조화된 표현 입니다. 자바스크립트에서는 DOM구조에 접근하여 HTML문서의 구조,스타일,내용 등을 변경할 수 있습니다. "
   ]
  },
  {
   "cell_type": "markdown",
   "metadata": {},
   "source": [
    "#### 11.1 문서객체모델이란?\n",
    "- Document Object Model은 HTML의 구조화된 표현입니다.\n",
    "- 현재 웹브라우저에서 DOM을 조작하는 언어는 자바스크립트가 유일합니다."
   ]
  },
  {
   "cell_type": "markdown",
   "metadata": {},
   "source": [
    ">11.1.1 DOM구조\n",
    "\n",
    "- DOM에서 모든 HTML요소들은 객체로 정의 됩니다."
   ]
  },
  {
   "cell_type": "markdown",
   "metadata": {},
   "source": [
    ">11.1.2 DOM의 메서드와 프로퍼티"
   ]
  },
  {
   "cell_type": "markdown",
   "metadata": {},
   "source": [
    ">11.1.3 Document객체\n",
    "- 웹페이지에 있는 모든 객체들의 소유주라고 할 수 있습니다."
   ]
  }
 ],
 "metadata": {
  "language_info": {
   "name": "python"
  }
 },
 "nbformat": 4,
 "nbformat_minor": 2
}
