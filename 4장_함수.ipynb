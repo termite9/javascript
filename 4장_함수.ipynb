{
 "cells": [
  {
   "cell_type": "markdown",
   "metadata": {},
   "source": [
    "### 함수 \n",
    "- 함수는 특정기능을 수행하며, 한번 정의해 놓으면 언제든 필요할 때 호출하여 재사용 할 수 있습니다.\n",
    "- 이 장에서는 자바스크립트에서 사용되는 \n",
    "    - 함수의 정의와 호출\n",
    "    - 익명 함수\n",
    "    - 함수의 매개변수\n",
    "    - 함수 값의 반환에 대해 알아본다.\n",
    "    - 함수의 유효한 범위를 의미하는 스코프\n",
    "    = 전역변수와 같은 방식으로 동작하지만 변수 값을 보호할 수 있는 클로저에 대해서도 학습"
   ]
  },
  {
   "cell_type": "markdown",
   "metadata": {},
   "source": [
    "#### 함수란?\n",
    "- function\n",
    "- 재사용이 가능하다는 가장 큰 이유로 사용된다\n",
    "- 내부에 저장되어 있는 내장함수. 직접만들어 사용하는 사용자 함수가 있다."
   ]
  },
  {
   "cell_type": "markdown",
   "metadata": {},
   "source": [
    "> 4.1.1 함수의 정의와 호출"
   ]
  },
  {
   "cell_type": "markdown",
   "metadata": {},
   "source": [
    "> 4.1.2 매개변수와 함수 값 반환"
   ]
  },
  {
   "cell_type": "code",
   "execution_count": null,
   "metadata": {
    "vscode": {
     "languageId": "latex"
    }
   },
   "outputs": [],
   "source": [
    "<script>\n",
    "        function circleArea(r) {\n",
    "            let result = r * r * 3.14;\n",
    "            return result;\n",
    "        }\n",
    "        let radius = 18;\n",
    "        let area;\n",
    "\n",
    "        area = circleArea(radius);\n",
    "        document.getElementById(\"show\").innerHTML = \"원의넒이\" + area;\n",
    "\n",
    "    </script"
   ]
  },
  {
   "cell_type": "markdown",
   "metadata": {},
   "source": [
    "> 4.1.3 함수로 섭씨.화씨 변환하기"
   ]
  },
  {
   "cell_type": "code",
   "execution_count": null,
   "metadata": {
    "vscode": {
     "languageId": "latex"
    }
   },
   "outputs": [],
   "source": [
    "<script>\n",
    "        function c2f(a) {\n",
    "            let b = (a * 1.8) + 32;\n",
    "            return b;\n",
    "        }\n",
    "        let c, f;\n",
    "        let text = \"\";\n",
    "        text += \"----------<br>\";\n",
    "        text += \"섭씨 화씨<br>\";\n",
    "        text += \"----------<br>\";\n",
    "\n",
    "        for (let c = -10; c <= 40; c += 10) {\n",
    "            text += c + \" \" + c2f(c) + \"<br>\";\n",
    "        }\n",
    "        document.getElementById(\"show\").innerHTML = text;\n",
    "\n",
    "    </script>"
   ]
  },
  {
   "cell_type": "code",
   "execution_count": null,
   "metadata": {
    "vscode": {
     "languageId": "latex"
    }
   },
   "outputs": [],
   "source": [
    "<script>\n",
    "        function c2f(a) {\n",
    "            let b = (a * 1.8) + 32;\n",
    "            return b;\n",
    "        }\n",
    "        let c, f;\n",
    "        let text = \"\";\n",
    "        text += \"<table border='1'>\";\n",
    "        text += \"<tr><td>섭씨</td><td>화씨</td></tr>\";\n",
    "\n",
    "\n",
    "        for (let c = -10; c <= 40; c += 10) {\n",
    "            text += \"<tr><td>\" + c + \"</td><td>\" + c2f(c) + \"</td><tr>\";\n",
    "        }\n",
    "        text += \"</table>\";\n",
    "        document.getElementById(\"show\").innerHTML = text;\n",
    "\n",
    "    </script>"
   ]
  },
  {
   "cell_type": "markdown",
   "metadata": {},
   "source": [
    "#### 4.2 익명함수"
   ]
  },
  {
   "cell_type": "markdown",
   "metadata": {},
   "source": [
    "> 4.2.1 익명함수란?\n",
    "- 함수이름이 없는 함수를 말한다. 미리 함수 이름을 정하지 않고 필요할때 함수를 만들어 사용하고 싶은 경우에 사용한다.\n",
    "- 변수를 선언하는 것과 같기 때문에 함수의 이름을 쉽게 변경할 수 있다."
   ]
  },
  {
   "cell_type": "markdown",
   "metadata": {},
   "source": [
    "> 4.2.2 자기호출 익명함수\n",
    "- 익명함수는 일반적으로 함수의 기능을 정의하여 변수에 저장한다음 호출하여 사용합니다. 그러나, 자기호출 익명함수는 함수 정의와 호출이 동시에 일어나 바로 실행이 되는 함수입니다.\n",
    "- (function(){  .....})();"
   ]
  },
  {
   "cell_type": "markdown",
   "metadata": {},
   "source": [
    "> 화살표 함수\n",
    "- 화살표함수는 익명함수를 축약해서 표현하는 형태입니다.\n",
    "- 익명함수에서 사용되는 키워드 { } 대신 화살표(=>)를 사용한다."
   ]
  },
  {
   "cell_type": "markdown",
   "metadata": {},
   "source": [
    "> 호이스팅 \n",
    "- 자바스크립트는 기본적으로 변수나 함수 정의부를 프로그램 제일 앞으로 끌어올립니다. 이것을 호이스팅이라 합니다.\n",
    "- 호이스팅은 우리말로 '끌어올리기'란 말입니다."
   ]
  },
  {
   "cell_type": "markdown",
   "metadata": {},
   "source": [
    "- 함수를 호출하고 함수를 정의해도 함수가 실행된다.\n",
    "- 그러나 익명함수에서는 반드시 함수 호출 이전에 함수를 선언해야 한다."
   ]
  },
  {
   "cell_type": "markdown",
   "metadata": {},
   "source": [
    "#### 4.3 함수의 매개변수\n",
    "> 4.3.1 매개변수의 기본 값\n",
    "- 자바스크립트 함수에서는 인수롸 매개변수의 개수가 일치 하지 않아도 오류가 발생하지 않습니다."
   ]
  },
  {
   "cell_type": "markdown",
   "metadata": {},
   "source": [
    "> 4.3.2 나머지 매개변수\n",
    "- 자바스크립트에서는 함수 정의시 매개변수의 개수를 미리 정하지 않고 매개변수의 수를 무한대로 설정할 수 있습니다. 이때 사용되는 매개변수를 \"나머지 매개변수\"라고 합니다. 기호는 ...을 사용합니다.(점은 세개만 사용함)"
   ]
  },
  {
   "cell_type": "markdown",
   "metadata": {},
   "source": [
    "> 4.3.3 arguments객체\n",
    "- 자바스크립트 함수는 arguments객체를 내장하고 있습니다. 이 객체는 함수 호출 시 전달되는 인수들을 배열 형태로 저장하고 있습니다."
   ]
  },
  {
   "cell_type": "markdown",
   "metadata": {},
   "source": [
    "#### 4.4 자바스크립트 스코프\n",
    "- 다른 프로그램에서도 사용되는 용어로 말 그대로 변수에 접근할 수 있는 유효범위를 의미한다.\n",
    "    - 전역스코프 : 프로그램내 전체 영역에서 사용가능..전역변수\n",
    "    - 함수스코프 : 함수 내에서만 사용이 가능 ..지역변수\n",
    "    - 블록스코프 : 블록내 { }에서만 사용이 가능. 특정블록내에서 선언한 let이나 const로 선언된 변수는 블록외부에서 사용할 수 없다."
   ]
  },
  {
   "cell_type": "markdown",
   "metadata": {},
   "source": [
    "> 4.4.1 전역스코프\n"
   ]
  },
  {
   "cell_type": "markdown",
   "metadata": {},
   "source": [
    "> 4.4.2 함수스코프"
   ]
  },
  {
   "cell_type": "markdown",
   "metadata": {},
   "source": [
    "> 4.4.3 블록스코프"
   ]
  },
  {
   "cell_type": "markdown",
   "metadata": {},
   "source": [
    "#### 4.5 클로져\n",
    "- 전역변수가 아닌 변수를 전역변수와 같은 방식으로 동작하지만 함부로 그 값을 변겨할 수 없도록 '사유화' 할 수 있는 방법을 제공합니다."
   ]
  },
  {
   "cell_type": "markdown",
   "metadata": {},
   "source": [
    "> 4.5.1 클로저란?\n"
   ]
  },
  {
   "cell_type": "markdown",
   "metadata": {},
   "source": [
    "> 4.5.2 클로저 활용\n",
    "- 클로저는 '부모함수가 종룓된 후에도 부모 스코프에 접근할 수 있는 기능을 가진 함수이다'라고 정의 할 수 있다."
   ]
  },
  {
   "cell_type": "markdown",
   "metadata": {},
   "source": [
    "#### 4.6 예외처리\n",
    "-  코드 실행중에 예기치 못한 오류가 발생했을때 코드의 흐름을 복구하는 기능을 말합니다."
   ]
  },
  {
   "cell_type": "markdown",
   "metadata": {},
   "source": [
    "> 4.6.1 try ~catch문"
   ]
  },
  {
   "cell_type": "markdown",
   "metadata": {},
   "source": [
    "> 4.6.2 try_catch~finally문\n",
    "- finally는 try~블럭의 결과와 상관없이 무조건 실행됩니다."
   ]
  },
  {
   "cell_type": "markdown",
   "metadata": {},
   "source": []
  }
 ],
 "metadata": {
  "language_info": {
   "name": "python"
  }
 },
 "nbformat": 4,
 "nbformat_minor": 2
}
