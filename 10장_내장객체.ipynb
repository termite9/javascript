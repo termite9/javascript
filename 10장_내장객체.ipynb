{
 "cells": [
  {
   "cell_type": "markdown",
   "metadata": {},
   "source": [
    "### 10장 내 장 객 체\n",
    "- 프로그래머가 별도로 객체를 정의할 필요가 없는 자바스크립트 자체에서 제공하는 객체입니다. \n",
    "- 수학에 관련된 Math\n",
    "- 날자와 시간을 다루는  Date\n",
    "- 집합 개념을 가진 Set\n",
    "- 또한 키-값 으로 데이터를 다루는 Map객체에 대해서 알아봅니다.\n"
   ]
  },
  {
   "cell_type": "markdown",
   "metadata": {},
   "source": [
    "#### 10.1 Math객체\n",
    "- 수학적 연산을 위한 다양한 메서드를 제공합니다."
   ]
  },
  {
   "cell_type": "markdown",
   "metadata": {},
   "source": [
    ">10.1.1  min()/max()메서드"
   ]
  },
  {
   "cell_type": "markdown",
   "metadata": {},
   "source": [
    ">10.1.2 abs()\n",
    "- 숫자의 절대값을 구합니다"
   ]
  },
  {
   "cell_type": "markdown",
   "metadata": {},
   "source": [
    ">10.1.3 round()\n",
    "- 숫자의 반올림 값을 구합니다.\n",
    "- 가장 가까운 정수 값을 반환합니다."
   ]
  },
  {
   "cell_type": "markdown",
   "metadata": {},
   "source": [
    ">10.1.4 floor()\n",
    "- 소숫점 이하의 값을 버립니다."
   ]
  },
  {
   "cell_type": "markdown",
   "metadata": {},
   "source": [
    ">10.1.5  ceil()\n",
    "- 소숫점 이하의 값을 무조건 올립니다."
   ]
  },
  {
   "cell_type": "markdown",
   "metadata": {},
   "source": [
    ">10.1.6 pow()\n",
    "- pow(x,y)는 x에대한 y의 거듭제곱을 구한다\n"
   ]
  },
  {
   "cell_type": "markdown",
   "metadata": {},
   "source": [
    ">10.1.7 sqrt()\n",
    "- 주어진 숫자의 제곱근값을 구한다"
   ]
  },
  {
   "cell_type": "markdown",
   "metadata": {},
   "source": [
    ">10.1.8 log()\n",
    "- 주어진 숫자의 자연로그값을 구한다"
   ]
  },
  {
   "cell_type": "markdown",
   "metadata": {},
   "source": [
    ">10.1.9 random()\n",
    "- 0에서 1(1은포함되지않음) 까지의 무작위 값을 얻는 데 사용된다."
   ]
  },
  {
   "cell_type": "markdown",
   "metadata": {},
   "source": [
    "#### 10.2 Date객체\n",
    "- 날자와 시간을 처리한다  1970년1월1일 기점\n",
    "- 영국런던 그리니치천문대기점  한국은 +9시간"
   ]
  },
  {
   "cell_type": "markdown",
   "metadata": {},
   "source": [
    ">10.2.1 현재날자와 시간"
   ]
  },
  {
   "cell_type": "markdown",
   "metadata": {},
   "source": [
    ">10.2.2 날자가져오기"
   ]
  },
  {
   "cell_type": "markdown",
   "metadata": {},
   "source": [
    ">10.2.3 시간가져오기"
   ]
  },
  {
   "cell_type": "markdown",
   "metadata": {},
   "source": [
    ">10.2.4 날자와 시간설정하기"
   ]
  },
  {
   "cell_type": "markdown",
   "metadata": {},
   "source": [
    "#### 10.3 Set객체\n",
    "- 요소들이 중복되지 않는 유일한 값을 가진 집합인니다. 수학에서 집합과 유사합니다. 배열과는 다음과 같은 차이가 있다\n",
    "    - 요소가 중복된 값을 가지지 않는다\n",
    "    - 요서에 순서가 없다\n",
    "    - 인덱스를 사용하지 않는다"
   ]
  },
  {
   "cell_type": "markdown",
   "metadata": {},
   "source": [
    ">10.3.1 Set객체생성"
   ]
  },
  {
   "cell_type": "markdown",
   "metadata": {},
   "source": [
    ">10.3.2 add()메서드\n",
    "- Set객체에서 요소를 추가"
   ]
  },
  {
   "cell_type": "markdown",
   "metadata": {},
   "source": [
    ">10.3.3 size프로퍼티\n",
    "- 요소의 갯수를 구할 수 있다."
   ]
  },
  {
   "cell_type": "markdown",
   "metadata": {},
   "source": [
    ">10.3.4 has()객체\n",
    "- 특정요소의 존재여부를 판단하는데 사용한다"
   ]
  },
  {
   "cell_type": "markdown",
   "metadata": {},
   "source": [
    "> 10.3.5 delete()메서드"
   ]
  },
  {
   "cell_type": "markdown",
   "metadata": {},
   "source": [
    "#### 10.4 Map객체\n",
    "- 키-값으로 구성된 자료 구조입니다. 키는 숫자,문자열,배열,객체등 어떤 데이터 형도 사용이 가능합니다.\n",
    "- Set객체와 달리 요소에 순서가 있습니다"
   ]
  },
  {
   "cell_type": "markdown",
   "metadata": {},
   "source": [
    ">10.4.1 Map 객체생성\n",
    "- new연산자와 생성자 함수 Map()의 인수에 배열을 이용"
   ]
  },
  {
   "cell_type": "markdown",
   "metadata": {},
   "source": [
    ">10.4.2 set()\n",
    "- Map객체에 키와 값으로 구성된 요소를 설정하는 데 사용한다...????"
   ]
  },
  {
   "cell_type": "markdown",
   "metadata": {},
   "source": [
    ">10.4.3 get()\n",
    "- 특정 키에 해당하는 값을 가져오는데 사용한다."
   ]
  },
  {
   "cell_type": "markdown",
   "metadata": {},
   "source": [
    ">10.4.4 has()\n",
    "- 특정 키가 객체에 존재하는지를 체크하는 데 사용됩니다."
   ]
  },
  {
   "cell_type": "markdown",
   "metadata": {},
   "source": [
    "> 10.4.5 delete()"
   ]
  },
  {
   "cell_type": "markdown",
   "metadata": {},
   "source": [
    ">10.4.6 size\n",
    "- 요소의 갯수를 구하는데 사용한다\n",
    "- ()가 없다. 즉 메서드가 아니고 프로퍼티다. 프로퍼티는 상태를 나타낸다"
   ]
  },
  {
   "cell_type": "markdown",
   "metadata": {},
   "source": []
  }
 ],
 "metadata": {
  "language_info": {
   "name": "python"
  }
 },
 "nbformat": 4,
 "nbformat_minor": 2
}
