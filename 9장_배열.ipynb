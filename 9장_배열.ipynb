{
 "cells": [
  {
   "cell_type": "markdown",
   "metadata": {},
   "source": [
    "### 9장 배열\n",
    "- 배열은 다수의 값을 하나의 변수에 저장하는 특별한 변수입니다.\n",
    "- Arry객체에 기반합니다.\n",
    "- 배열을 생성한 다음 요소값에 접근하는 방법/ 배열의 요소를 반환하고 요소를 추가 삭제하는 방법\n",
    "- 요소를 추출하고 검색하는 방법. 뱅열을 병합하고 정렬하는 방법등에 대하여"
   ]
  },
  {
   "cell_type": "markdown",
   "metadata": {},
   "source": [
    "#### 9.1 배열이란?\n",
    "- []로 감싸고 콤마(,)로 요소를 구분한다"
   ]
  },
  {
   "cell_type": "markdown",
   "metadata": {},
   "source": [
    ">9.1.1 배열의 생성\n"
   ]
  },
  {
   "cell_type": "markdown",
   "metadata": {},
   "source": [
    ">9.1.2 배열요소값의 변경\n",
    "- 배열의 인덱스 값으로 접근하여 요소를 변경한다."
   ]
  },
  {
   "cell_type": "markdown",
   "metadata": {},
   "source": [
    ">9.1.3 배열과 객체의 차이 \n",
    "- 자바스크립트에서 배열은 객체를 기반으로 하고 있습니다. 따라서 배열과 객체는유사한 점이 만치만 차이점도 존재합니다."
   ]
  },
  {
   "cell_type": "markdown",
   "metadata": {},
   "source": [
    ">9.1.4 배열요소 반복 읽기\n",
    "- 배열요소를 반복해서 읽기 위해서 for문을 사용합니다. "
   ]
  },
  {
   "cell_type": "markdown",
   "metadata": {},
   "source": [
    "#### 9.2 배열요소 변환/추가/삭제\n",
    "- "
   ]
  },
  {
   "cell_type": "markdown",
   "metadata": {},
   "source": [
    "> 9.2.1 join()메서드\n",
    "- 배열을 문자열로 변환하는 데 사용됩니다."
   ]
  },
  {
   "cell_type": "markdown",
   "metadata": {},
   "source": [
    ">9.2.2 : push()메서드\n",
    "- 배열의 끝에 새로운 요소를 추가하는 데 사용됩니다."
   ]
  },
  {
   "cell_type": "markdown",
   "metadata": {},
   "source": [
    ">9.2.3 : pop()메서드\n",
    "- 배열의 맨 마지막 요소를 삭제한 값을 반환한다. "
   ]
  },
  {
   "cell_type": "markdown",
   "metadata": {},
   "source": [
    ">9.2.4 : shift()메서드\n",
    "- 배열의 첫요소를 삭제한다."
   ]
  },
  {
   "cell_type": "markdown",
   "metadata": {},
   "source": [
    ">9.2.5: splics()메서드\n",
    "- 배열에 요소를 추가하거나 삭제할 때 사용됩니다."
   ]
  },
  {
   "cell_type": "markdown",
   "metadata": {},
   "source": [
    "#### 9.3 배열요소 추출 / 검색\n"
   ]
  },
  {
   "cell_type": "markdown",
   "metadata": {},
   "source": [
    ">9.3.1 : indexOf()메서드\n",
    "- 배열에서 특정 문자열의 위치, 즉 인덱스 값을 반환합니다."
   ]
  },
  {
   "cell_type": "markdown",
   "metadata": {},
   "source": [
    ">9.3.2 : includes()메서드\n",
    "- 배열에서 특정 요소의 존재 여부를 파악하는데 사용됩니다."
   ]
  },
  {
   "cell_type": "markdown",
   "metadata": {},
   "source": [
    ">9.3.3 : slice()메서드\n",
    "- 인덱스를 이용하여 특정요소를 추출하는데 사용됩니다."
   ]
  },
  {
   "cell_type": "markdown",
   "metadata": {},
   "source": [
    ">9.3.4 : find()메서드\n",
    "- 조금 복잡하다\n",
    "- 특정 요소를 찾는 조건을 콜백함수를 통해 전달하여 조건에 해당하는 첫번째 요소값을 반환합니다.\n",
    "- 자바스크립트에서는 함수의 매개변수로 함수가 사용될 수 있습니다. 다른 함수의 매개변수로 전달되는 함수를 콜백함수라고 합니다."
   ]
  },
  {
   "cell_type": "markdown",
   "metadata": {},
   "source": [
    ">9.3.5 : forEach()메서드\n",
    "- 배열 각 요소에 대해 매개변수로 설정된 함수를 실행합니다."
   ]
  },
  {
   "cell_type": "markdown",
   "metadata": {},
   "source": [
    ">9.3.6: map()메서드\n",
    "- 배열 각 요소에 대해 매개변수로 설정된 함수를 실행하여 얻어진요소들을 구성된 새로운 배열을 반환합니다."
   ]
  },
  {
   "cell_type": "markdown",
   "metadata": {},
   "source": [
    "#### 9.4 배열 병합/복사/정렬"
   ]
  },
  {
   "cell_type": "markdown",
   "metadata": {},
   "source": [
    ">9.4.1 concat()메서드\n",
    "- 두 개의 배열을 서로 연결한다."
   ]
  },
  {
   "cell_type": "markdown",
   "metadata": {},
   "source": [
    ">9.4.2 copyWithin()메서드\n",
    "- 특정 요소들을 배열 내 다른 위치에 복사하는 데 사용됩니다."
   ]
  },
  {
   "cell_type": "markdown",
   "metadata": {},
   "source": [
    ">9.4.3 sort() / reverse() 메서드\n",
    "- 오름차순/ 내림차순 정열"
   ]
  },
  {
   "cell_type": "markdown",
   "metadata": {},
   "source": [
    "#### 9.5 2차원배열\n"
   ]
  },
  {
   "cell_type": "markdown",
   "metadata": {},
   "source": [
    ">9.5.1   2차원배열\n",
    "- const arr=[[1,2],[3,4]];"
   ]
  },
  {
   "cell_type": "markdown",
   "metadata": {},
   "source": [
    ">9.5.2 2차원 배열에 값 입력\n",
    "- 빈요소로 구성된 2차원 배열을 생성한 다음 for문으로 2차원배열의 각 요소에 값을 입력합니다."
   ]
  },
  {
   "cell_type": "markdown",
   "metadata": {},
   "source": [
    "> 9.5.3 2차원 배열의 합계와 평균"
   ]
  },
  {
   "cell_type": "markdown",
   "metadata": {},
   "source": []
  }
 ],
 "metadata": {
  "language_info": {
   "name": "python"
  }
 },
 "nbformat": 4,
 "nbformat_minor": 2
}
