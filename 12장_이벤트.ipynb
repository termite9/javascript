{
 "cells": [
  {
   "cell_type": "markdown",
   "metadata": {},
   "source": [
    "### 12장 이 벤 트\n",
    "- 자바스크립트에서는 DOM에서 발생하는 이벤트를 감지하고 처리할 수 있습니다. 발생하는 이벤트를 등록하는 세 가지 방법인 이벤트 핸들러, 인라인 모델, 이벤트 리스너를 사용하는 방법에 대해 설명합니다. 또한 마우스이벤트, 포거스이벤트,키보드이벤트가 발생되는 원인과 처리 방법에 대해서 배운니다.\n",
    "- 마지막으로 onchange, onload,oncopy,oncut,onpase등 다양한 이벤트를 다루는 방법에 대해서도 학습한다"
   ]
  },
  {
   "cell_type": "markdown",
   "metadata": {},
   "source": [
    "#### 12.1 이벤트란?\n",
    "- 웹페이지에서 발생하는 사건을 말한다.\n",
    "- 이벤트를 처리하는 함수를 이벤트핸들러 또는 이벤트 리스너라고 합니다."
   ]
  },
  {
   "cell_type": "markdown",
   "metadata": {},
   "source": [
    ">12.1.1 이벤트 핸들러\n",
    "- 마우스클릭\n",
    "- 마우스 이동\n",
    "- 페이지 로드\n",
    "- 입력창에 데이터 입력\n",
    "- 키보드 누르기 등에서 발생되는 이벤트트를 처리한다."
   ]
  },
  {
   "cell_type": "markdown",
   "metadata": {},
   "source": [
    ">12.1.2 인라인 모델\n",
    "- 간단한 이벤트는 태그의 속서에 코드를 직접 삽입하여 처리할 수 도 있습니다."
   ]
  },
  {
   "cell_type": "markdown",
   "metadata": {},
   "source": [
    ">12.1.3 이벤트 리스너\n",
    "- 이밴트 핸들러와 거의 동일한 개념입니다. 이벤트를 처리하는 함수를 의미합니다. 리스너는 이벤트가 발생하길 기다렸다가 이벤트 발생 시 해당 이벤트를 처리합니다. 이벤트 리스너는 addEventListener()메서드를 이용하여 리스너를 등록한 다음 사용합니다."
   ]
  },
  {
   "cell_type": "markdown",
   "metadata": {},
   "source": [
    "> 핸들러와 리스너의 결정적인 차이 : 리스너는 여러개의 이벤트를 동시에 처리할 수 있다."
   ]
  },
  {
   "cell_type": "markdown",
   "metadata": {},
   "source": [
    "#### 12.2 이벤트 버블링\n",
    "- 이벤트는 일반적으로 하나의 객체에 대해 발생하지만 어떤 경우에는 하나의 객체에서 발생된 이벤트가 상위 객체로 전달되기도 합니다. 이것을 이벤트 버블링이라고 합니다. 거품이 일어나듯 이벤트가 전달된다는 의미를 가지고 있습니다."
   ]
  },
  {
   "cell_type": "markdown",
   "metadata": {},
   "source": [
    "#### 12.3 마우스 이벤트"
   ]
  },
  {
   "cell_type": "markdown",
   "metadata": {},
   "source": [
    ">12.3.1 onclick/ondblclick"
   ]
  },
  {
   "cell_type": "markdown",
   "metadata": {},
   "source": [
    ">12.3.2 onmouseover / onmouseout\n",
    "- 버튼요소에 마우스를 올렸다 /내렸다 할때 이벤트발생"
   ]
  },
  {
   "cell_type": "markdown",
   "metadata": {},
   "source": [
    ">12.3.3 onmouseenter\n",
    "- onmouseover이벤트와 유사한 기능을 수행합니다.\n",
    "- 자신에 대해서만 실행된다"
   ]
  },
  {
   "cell_type": "markdown",
   "metadata": {},
   "source": [
    ">12.3.4 onmouseleave\n",
    "- 자신에 대해서만 실행된다."
   ]
  },
  {
   "cell_type": "markdown",
   "metadata": {},
   "source": [
    ">12.3.5 onmousemove\n",
    "- 마우스가 이동할 때 발생한다."
   ]
  },
  {
   "cell_type": "markdown",
   "metadata": {},
   "source": [
    "#### 12.4 포커스이벤트\n",
    "- 텍스트나 비밀번호 입력창 안에 마우스를 클릭하면 마우스 커서가 깜빡거립니다. 이런 상태를 포커스를 얻었다고 표현합니다.반대로 입력창 외부를 클릭하면 포코스를 잃게 됩니다. \n",
    "- onfocus : 포커스를 얻었을때\n",
    "- onblur 포커스를 잃었을때"
   ]
  },
  {
   "cell_type": "markdown",
   "metadata": {},
   "source": [
    "#### 12.5 키보드 이벤트\n",
    "- 사용자가 키보드 키를 눌렀을 때 와 눌렀다 떼었을 때 발생됩니다.\n",
    "- onkeydown : 키보드를 눌렀을때\n",
    "- onkeyup : 키보드 키를 눌렀다 떼었을때"
   ]
  },
  {
   "cell_type": "markdown",
   "metadata": {},
   "source": [
    ">12.5.1 onkeydown이벤트"
   ]
  },
  {
   "cell_type": "markdown",
   "metadata": {},
   "source": [
    ">12.5.2 onkeyup 이벤트"
   ]
  }
 ],
 "metadata": {
  "language_info": {
   "name": "python"
  }
 },
 "nbformat": 4,
 "nbformat_minor": 2
}
